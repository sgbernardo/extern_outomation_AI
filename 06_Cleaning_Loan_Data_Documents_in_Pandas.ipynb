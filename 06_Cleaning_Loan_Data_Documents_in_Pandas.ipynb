{
  "nbformat": 4,
  "nbformat_minor": 0,
  "metadata": {
    "colab": {
      "provenance": [],
      "toc_visible": true,
      "authorship_tag": "ABX9TyNSopy+Cy6QAr+vCIXsDomb",
      "include_colab_link": true
    },
    "kernelspec": {
      "name": "python3",
      "display_name": "Python 3"
    },
    "language_info": {
      "name": "python"
    }
  },
  "cells": [
    {
      "cell_type": "markdown",
      "metadata": {
        "id": "view-in-github",
        "colab_type": "text"
      },
      "source": [
        "<a href=\"https://colab.research.google.com/github/sgbernardo/extern_outomation_AI/blob/main/06_Cleaning_Loan_Data_Documents_in_Pandas.ipynb\" target=\"_parent\"><img src=\"https://colab.research.google.com/assets/colab-badge.svg\" alt=\"Open In Colab\"/></a>"
      ]
    },
    {
      "cell_type": "markdown",
      "source": [
        "# Package and Data Preparation"
      ],
      "metadata": {
        "id": "Y3CWRBGnbVq5"
      }
    },
    {
      "cell_type": "markdown",
      "source": [
        "**Importing the pandas package**"
      ],
      "metadata": {
        "id": "X0n5oMFBNej5"
      }
    },
    {
      "cell_type": "code",
      "source": [
        "import pandas as pd"
      ],
      "metadata": {
        "id": "dC_sqrOUZg_d"
      },
      "execution_count": 5,
      "outputs": []
    },
    {
      "cell_type": "markdown",
      "source": [
        "**Uploading the data set**"
      ],
      "metadata": {
        "id": "IoA38yIcM-sr"
      }
    },
    {
      "cell_type": "code",
      "execution_count": 7,
      "metadata": {
        "colab": {
          "base_uri": "https://localhost:8080/",
          "height": 73
        },
        "id": "rkkwfguEM302",
        "outputId": "3ca91863-358f-47e6-ba63-2a3221e46b23"
      },
      "outputs": [
        {
          "output_type": "display_data",
          "data": {
            "text/plain": [
              "<IPython.core.display.HTML object>"
            ],
            "text/html": [
              "\n",
              "     <input type=\"file\" id=\"files-c25305d9-86c8-4d9e-be43-f240e6ddcff2\" name=\"files[]\" multiple disabled\n",
              "        style=\"border:none\" />\n",
              "     <output id=\"result-c25305d9-86c8-4d9e-be43-f240e6ddcff2\">\n",
              "      Upload widget is only available when the cell has been executed in the\n",
              "      current browser session. Please rerun this cell to enable.\n",
              "      </output>\n",
              "      <script>// Copyright 2017 Google LLC\n",
              "//\n",
              "// Licensed under the Apache License, Version 2.0 (the \"License\");\n",
              "// you may not use this file except in compliance with the License.\n",
              "// You may obtain a copy of the License at\n",
              "//\n",
              "//      http://www.apache.org/licenses/LICENSE-2.0\n",
              "//\n",
              "// Unless required by applicable law or agreed to in writing, software\n",
              "// distributed under the License is distributed on an \"AS IS\" BASIS,\n",
              "// WITHOUT WARRANTIES OR CONDITIONS OF ANY KIND, either express or implied.\n",
              "// See the License for the specific language governing permissions and\n",
              "// limitations under the License.\n",
              "\n",
              "/**\n",
              " * @fileoverview Helpers for google.colab Python module.\n",
              " */\n",
              "(function(scope) {\n",
              "function span(text, styleAttributes = {}) {\n",
              "  const element = document.createElement('span');\n",
              "  element.textContent = text;\n",
              "  for (const key of Object.keys(styleAttributes)) {\n",
              "    element.style[key] = styleAttributes[key];\n",
              "  }\n",
              "  return element;\n",
              "}\n",
              "\n",
              "// Max number of bytes which will be uploaded at a time.\n",
              "const MAX_PAYLOAD_SIZE = 100 * 1024;\n",
              "\n",
              "function _uploadFiles(inputId, outputId) {\n",
              "  const steps = uploadFilesStep(inputId, outputId);\n",
              "  const outputElement = document.getElementById(outputId);\n",
              "  // Cache steps on the outputElement to make it available for the next call\n",
              "  // to uploadFilesContinue from Python.\n",
              "  outputElement.steps = steps;\n",
              "\n",
              "  return _uploadFilesContinue(outputId);\n",
              "}\n",
              "\n",
              "// This is roughly an async generator (not supported in the browser yet),\n",
              "// where there are multiple asynchronous steps and the Python side is going\n",
              "// to poll for completion of each step.\n",
              "// This uses a Promise to block the python side on completion of each step,\n",
              "// then passes the result of the previous step as the input to the next step.\n",
              "function _uploadFilesContinue(outputId) {\n",
              "  const outputElement = document.getElementById(outputId);\n",
              "  const steps = outputElement.steps;\n",
              "\n",
              "  const next = steps.next(outputElement.lastPromiseValue);\n",
              "  return Promise.resolve(next.value.promise).then((value) => {\n",
              "    // Cache the last promise value to make it available to the next\n",
              "    // step of the generator.\n",
              "    outputElement.lastPromiseValue = value;\n",
              "    return next.value.response;\n",
              "  });\n",
              "}\n",
              "\n",
              "/**\n",
              " * Generator function which is called between each async step of the upload\n",
              " * process.\n",
              " * @param {string} inputId Element ID of the input file picker element.\n",
              " * @param {string} outputId Element ID of the output display.\n",
              " * @return {!Iterable<!Object>} Iterable of next steps.\n",
              " */\n",
              "function* uploadFilesStep(inputId, outputId) {\n",
              "  const inputElement = document.getElementById(inputId);\n",
              "  inputElement.disabled = false;\n",
              "\n",
              "  const outputElement = document.getElementById(outputId);\n",
              "  outputElement.innerHTML = '';\n",
              "\n",
              "  const pickedPromise = new Promise((resolve) => {\n",
              "    inputElement.addEventListener('change', (e) => {\n",
              "      resolve(e.target.files);\n",
              "    });\n",
              "  });\n",
              "\n",
              "  const cancel = document.createElement('button');\n",
              "  inputElement.parentElement.appendChild(cancel);\n",
              "  cancel.textContent = 'Cancel upload';\n",
              "  const cancelPromise = new Promise((resolve) => {\n",
              "    cancel.onclick = () => {\n",
              "      resolve(null);\n",
              "    };\n",
              "  });\n",
              "\n",
              "  // Wait for the user to pick the files.\n",
              "  const files = yield {\n",
              "    promise: Promise.race([pickedPromise, cancelPromise]),\n",
              "    response: {\n",
              "      action: 'starting',\n",
              "    }\n",
              "  };\n",
              "\n",
              "  cancel.remove();\n",
              "\n",
              "  // Disable the input element since further picks are not allowed.\n",
              "  inputElement.disabled = true;\n",
              "\n",
              "  if (!files) {\n",
              "    return {\n",
              "      response: {\n",
              "        action: 'complete',\n",
              "      }\n",
              "    };\n",
              "  }\n",
              "\n",
              "  for (const file of files) {\n",
              "    const li = document.createElement('li');\n",
              "    li.append(span(file.name, {fontWeight: 'bold'}));\n",
              "    li.append(span(\n",
              "        `(${file.type || 'n/a'}) - ${file.size} bytes, ` +\n",
              "        `last modified: ${\n",
              "            file.lastModifiedDate ? file.lastModifiedDate.toLocaleDateString() :\n",
              "                                    'n/a'} - `));\n",
              "    const percent = span('0% done');\n",
              "    li.appendChild(percent);\n",
              "\n",
              "    outputElement.appendChild(li);\n",
              "\n",
              "    const fileDataPromise = new Promise((resolve) => {\n",
              "      const reader = new FileReader();\n",
              "      reader.onload = (e) => {\n",
              "        resolve(e.target.result);\n",
              "      };\n",
              "      reader.readAsArrayBuffer(file);\n",
              "    });\n",
              "    // Wait for the data to be ready.\n",
              "    let fileData = yield {\n",
              "      promise: fileDataPromise,\n",
              "      response: {\n",
              "        action: 'continue',\n",
              "      }\n",
              "    };\n",
              "\n",
              "    // Use a chunked sending to avoid message size limits. See b/62115660.\n",
              "    let position = 0;\n",
              "    do {\n",
              "      const length = Math.min(fileData.byteLength - position, MAX_PAYLOAD_SIZE);\n",
              "      const chunk = new Uint8Array(fileData, position, length);\n",
              "      position += length;\n",
              "\n",
              "      const base64 = btoa(String.fromCharCode.apply(null, chunk));\n",
              "      yield {\n",
              "        response: {\n",
              "          action: 'append',\n",
              "          file: file.name,\n",
              "          data: base64,\n",
              "        },\n",
              "      };\n",
              "\n",
              "      let percentDone = fileData.byteLength === 0 ?\n",
              "          100 :\n",
              "          Math.round((position / fileData.byteLength) * 100);\n",
              "      percent.textContent = `${percentDone}% done`;\n",
              "\n",
              "    } while (position < fileData.byteLength);\n",
              "  }\n",
              "\n",
              "  // All done.\n",
              "  yield {\n",
              "    response: {\n",
              "      action: 'complete',\n",
              "    }\n",
              "  };\n",
              "}\n",
              "\n",
              "scope.google = scope.google || {};\n",
              "scope.google.colab = scope.google.colab || {};\n",
              "scope.google.colab._files = {\n",
              "  _uploadFiles,\n",
              "  _uploadFilesContinue,\n",
              "};\n",
              "})(self);\n",
              "</script> "
            ]
          },
          "metadata": {}
        },
        {
          "output_type": "stream",
          "name": "stdout",
          "text": [
            "Saving bank_loan.csv to bank_loan.csv\n"
          ]
        }
      ],
      "source": [
        "#Upload the CSV file and read it into a DataFrame\n",
        "from google.colab import files\n",
        "uploaded = files.upload()\n",
        "\n",
        "# Assuming the file name is 'bank_loan.csv'\n",
        "df = pd.read_csv('bank_loan.csv')"
      ]
    },
    {
      "cell_type": "code",
      "source": [],
      "metadata": {
        "id": "_uCNX19QNbCt"
      },
      "execution_count": null,
      "outputs": []
    },
    {
      "cell_type": "markdown",
      "source": [
        "**Inspecting the data set**"
      ],
      "metadata": {
        "id": "6LiBLpKfO30_"
      }
    },
    {
      "cell_type": "code",
      "source": [
        "# Inspect the first few rows of the DataFrame\n",
        "print(\"First five rows of the dataset:\")\n",
        "print(df.head())\n",
        "\n",
        "# Get a summary of the DataFrame\n",
        "print(\"\\nDataFrame summary:\")\n",
        "print(df.info())"
      ],
      "metadata": {
        "colab": {
          "base_uri": "https://localhost:8080/"
        },
        "id": "bfQFi3-LiJp-",
        "outputId": "01f5be99-877d-4b85-9840-10842413fbb2"
      },
      "execution_count": 8,
      "outputs": [
        {
          "output_type": "stream",
          "name": "stdout",
          "text": [
            "First five rows of the dataset:\n",
            "   ID  Age  Experience  Income  ZIP Code  Family CCAvg  Education  Mortgage  \\\n",
            "0   1   25           1      49     91108       4  1/60          1         0   \n",
            "1   2   45          19      34     90089       3  1/50          1         0   \n",
            "2   3   39          15      11     94720       1  1/00          1         0   \n",
            "3   4   35           9     100     94112       1  2/70          2         0   \n",
            "4   5   35           8      45     91330       4  1/00          2         0   \n",
            "\n",
            "   Personal Loan  Securities Account  CD Account  Online  CreditCard  \n",
            "0              0                   1           0       0           0  \n",
            "1              0                   1           0       0           0  \n",
            "2              0                   0           0       0           0  \n",
            "3              0                   0           0       0           0  \n",
            "4              0                   0           0       0           1  \n",
            "\n",
            "DataFrame summary:\n",
            "<class 'pandas.core.frame.DataFrame'>\n",
            "RangeIndex: 5000 entries, 0 to 4999\n",
            "Data columns (total 14 columns):\n",
            " #   Column              Non-Null Count  Dtype \n",
            "---  ------              --------------  ----- \n",
            " 0   ID                  5000 non-null   int64 \n",
            " 1   Age                 5000 non-null   int64 \n",
            " 2   Experience          5000 non-null   int64 \n",
            " 3   Income              5000 non-null   int64 \n",
            " 4   ZIP Code            5000 non-null   int64 \n",
            " 5   Family              5000 non-null   int64 \n",
            " 6   CCAvg               5000 non-null   object\n",
            " 7   Education           5000 non-null   int64 \n",
            " 8   Mortgage            5000 non-null   int64 \n",
            " 9   Personal Loan       5000 non-null   int64 \n",
            " 10  Securities Account  5000 non-null   int64 \n",
            " 11  CD Account          5000 non-null   int64 \n",
            " 12  Online              5000 non-null   int64 \n",
            " 13  CreditCard          5000 non-null   int64 \n",
            "dtypes: int64(13), object(1)\n",
            "memory usage: 547.0+ KB\n",
            "None\n"
          ]
        }
      ]
    },
    {
      "cell_type": "markdown",
      "source": [
        "# Cleaning Data"
      ],
      "metadata": {
        "id": "khrLO6SIbpIp"
      }
    },
    {
      "cell_type": "markdown",
      "source": [
        "**Identifying and Filling Missing Values**"
      ],
      "metadata": {
        "id": "XppiPp6uiW4E"
      }
    },
    {
      "cell_type": "code",
      "source": [
        "# Detect missing values\n",
        "print(df.isnull().sum())"
      ],
      "metadata": {
        "colab": {
          "base_uri": "https://localhost:8080/"
        },
        "id": "hBOmH2nCiYRH",
        "outputId": "0ee4274b-0aa4-4668-cf37-069ef298516f"
      },
      "execution_count": 15,
      "outputs": [
        {
          "output_type": "stream",
          "name": "stdout",
          "text": [
            "ID                    0\n",
            "Age                   0\n",
            "Experience            0\n",
            "Income                0\n",
            "ZIP Code              0\n",
            "Family                0\n",
            "CCAvg                 0\n",
            "Education             0\n",
            "Mortgage              0\n",
            "Personal Loan         0\n",
            "Securities Account    0\n",
            "CD Account            0\n",
            "Online                0\n",
            "CreditCard            0\n",
            "dtype: int64\n"
          ]
        }
      ]
    },
    {
      "cell_type": "markdown",
      "source": [
        "There were no missing values in the loan data set. Hence, there is no need to fill any null values."
      ],
      "metadata": {
        "id": "NLpVxKu0aX7R"
      }
    },
    {
      "cell_type": "markdown",
      "source": [
        "**Finding and Dropping Duplicates**"
      ],
      "metadata": {
        "id": "RTISc_06ZAMU"
      }
    },
    {
      "cell_type": "code",
      "source": [
        "# Identify duplicates\n",
        "duplicates = df.duplicated()\n",
        "print(\"Duplicate rows:\\n\", duplicates.sum())"
      ],
      "metadata": {
        "colab": {
          "base_uri": "https://localhost:8080/"
        },
        "id": "ubOpxmj-ZSGO",
        "outputId": "b6f65bd6-72c5-4d81-c5aa-a573360f820c"
      },
      "execution_count": 19,
      "outputs": [
        {
          "output_type": "stream",
          "name": "stdout",
          "text": [
            "Duplicate rows:\n",
            " 0\n"
          ]
        }
      ]
    },
    {
      "cell_type": "markdown",
      "source": [
        "There were no duplicates found. To be sure, we will use the drop duplicates function."
      ],
      "metadata": {
        "id": "G8VPye4sa8Ek"
      }
    },
    {
      "cell_type": "code",
      "source": [
        "# Drop duplicates\n",
        "df_no_duplicates = df.drop_duplicates()\n",
        "\n",
        "print(\"DataFrame after removing duplicates:\\n\", df_no_duplicates)"
      ],
      "metadata": {
        "colab": {
          "base_uri": "https://localhost:8080/"
        },
        "id": "N6b3pbMwa7ym",
        "outputId": "2de71f56-e5fd-4cb2-e494-91943a0537ad"
      },
      "execution_count": 20,
      "outputs": [
        {
          "output_type": "stream",
          "name": "stdout",
          "text": [
            "DataFrame after removing duplicates:\n",
            "         ID  Age  Experience  Income  ZIP Code  Family CCAvg  Education  \\\n",
            "0        1   25           1      49     91108       4  1/60          1   \n",
            "1        2   45          19      34     90089       3  1/50          1   \n",
            "2        3   39          15      11     94720       1  1/00          1   \n",
            "3        4   35           9     100     94112       1  2/70          2   \n",
            "4        5   35           8      45     91330       4  1/00          2   \n",
            "...    ...  ...         ...     ...       ...     ...   ...        ...   \n",
            "4995  4996   29           3      40     92697       1  1/90          3   \n",
            "4996  4997   30           4      15     92037       4  0/40          1   \n",
            "4997  4998   63          39      24     93023       2  0/30          3   \n",
            "4998  4999   65          40      49     90034       3  0/50          2   \n",
            "4999  5000   28           4      83     92612       3  0/80          1   \n",
            "\n",
            "      Mortgage  Personal Loan  Securities Account  CD Account  Online  \\\n",
            "0            0              0                   1           0       0   \n",
            "1            0              0                   1           0       0   \n",
            "2            0              0                   0           0       0   \n",
            "3            0              0                   0           0       0   \n",
            "4            0              0                   0           0       0   \n",
            "...        ...            ...                 ...         ...     ...   \n",
            "4995         0              0                   0           0       1   \n",
            "4996        85              0                   0           0       1   \n",
            "4997         0              0                   0           0       0   \n",
            "4998         0              0                   0           0       1   \n",
            "4999         0              0                   0           0       1   \n",
            "\n",
            "      CreditCard  \n",
            "0              0  \n",
            "1              0  \n",
            "2              0  \n",
            "3              0  \n",
            "4              1  \n",
            "...          ...  \n",
            "4995           0  \n",
            "4996           0  \n",
            "4997           0  \n",
            "4998           0  \n",
            "4999           1  \n",
            "\n",
            "[5000 rows x 14 columns]\n"
          ]
        }
      ]
    },
    {
      "cell_type": "markdown",
      "source": [],
      "metadata": {
        "id": "pzxtdZ0UZOAN"
      }
    }
  ]
}