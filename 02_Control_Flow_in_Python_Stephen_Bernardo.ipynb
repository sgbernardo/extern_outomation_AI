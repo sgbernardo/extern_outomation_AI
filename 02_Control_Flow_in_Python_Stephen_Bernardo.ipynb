{
  "cells": [
    {
      "cell_type": "markdown",
      "metadata": {
        "id": "view-in-github",
        "colab_type": "text"
      },
      "source": [
        "<a href=\"https://colab.research.google.com/github/sgbernardo/extern_outomation_AI/blob/main/02_Control_Flow_in_Python_Stephen_Bernardo.ipynb\" target=\"_parent\"><img src=\"https://colab.research.google.com/assets/colab-badge.svg\" alt=\"Open In Colab\"/></a>"
      ]
    },
    {
      "cell_type": "markdown",
      "source": [
        "# Control Flow in Python - Colab Notebook\n"
      ],
      "metadata": {
        "id": "bV8oBOajFxHC"
      },
      "id": "bV8oBOajFxHC"
    },
    {
      "cell_type": "markdown",
      "source": [
        "## Introduction to Control Flow\n",
        "\n",
        "Control flow refers to the order in which individual statements, instructions, or function calls are executed or evaluated in a programming language. In Python, control flow is managed using decision-making statements, loops, and jump statements. Understanding control flow is essential for writing logical and efficient code."
      ],
      "metadata": {
        "id": "FHWzM_qfF7bv"
      },
      "id": "FHWzM_qfF7bv"
    },
    {
      "cell_type": "markdown",
      "source": [
        "### Table of Contents\n",
        "\n",
        "1. Decision-Making Statements\n",
        "2. Loops\n",
        "3. Jump Statements\n",
        "4. Real-World Examples\n",
        "5. Exercises"
      ],
      "metadata": {
        "id": "hsC7TFZcF__M"
      },
      "id": "hsC7TFZcF__M"
    },
    {
      "cell_type": "markdown",
      "source": [
        "## Decision-Making Statements\n",
        "\n",
        "Decision-making statements allow your program to make decisions and execute different code blocks based on certain conditions. This is essential for creating dynamic and responsive programs."
      ],
      "metadata": {
        "id": "EOxGAw70GDY6"
      },
      "id": "EOxGAw70GDY6"
    },
    {
      "cell_type": "markdown",
      "source": [
        "### 1. If Statements\n",
        "\n",
        "The `if` statement allows you to execute a block of code only if a certain condition is met. If the condition evaluates to `True`, the code block under the `if` statement runs. If it evaluates to `False`, the code block is skipped.\n",
        "\n",
        "**Syntax:**\n",
        "\n",
        "```python\n",
        "if condition:\n",
        "    # code block\n",
        "```"
      ],
      "metadata": {
        "id": "Ho_z4gFhGNqO"
      },
      "id": "Ho_z4gFhGNqO"
    },
    {
      "cell_type": "markdown",
      "source": [
        "Here is a simple example below:"
      ],
      "metadata": {
        "id": "PU1DKhj3G4zz"
      },
      "id": "PU1DKhj3G4zz"
    },
    {
      "cell_type": "code",
      "source": [
        "a = 1\n",
        "\n",
        "# condition is true\n",
        "if a==1:\n",
        "  print('Inside if-case')\n"
      ],
      "metadata": {
        "id": "qoT4UqN3Gb66"
      },
      "id": "qoT4UqN3Gb66",
      "execution_count": null,
      "outputs": []
    },
    {
      "cell_type": "markdown",
      "source": [
        "**Try making your own example for an if-case below:**"
      ],
      "metadata": {
        "id": "d8lR7OXuG_Q8"
      },
      "id": "d8lR7OXuG_Q8"
    },
    {
      "cell_type": "code",
      "source": [
        "## Try writing an if statement\n",
        "\n"
      ],
      "metadata": {
        "id": "-bYoqbkeHFaq"
      },
      "id": "-bYoqbkeHFaq",
      "execution_count": null,
      "outputs": []
    },
    {
      "cell_type": "markdown",
      "source": [
        "**Example:**\n",
        "Imagine you have a program that checks if a user is eligible for a discount."
      ],
      "metadata": {
        "id": "AO1UdleAFxQ5"
      },
      "id": "AO1UdleAFxQ5"
    },
    {
      "cell_type": "code",
      "source": [
        "# Check eligibility for discount\n",
        "age = 20\n",
        "\n",
        "if age < 18:\n",
        "    print(\"You are eligible for a child discount.\")"
      ],
      "metadata": {
        "id": "zOh01iymHXzq"
      },
      "id": "zOh01iymHXzq",
      "execution_count": null,
      "outputs": []
    },
    {
      "cell_type": "markdown",
      "source": [
        "**Explanation:**\n",
        "- If the condition `age < 18` is true, the message \"You are eligible for a child discount.\" is printed."
      ],
      "metadata": {
        "id": "zRgX4A2sHXG4"
      },
      "id": "zRgX4A2sHXG4"
    },
    {
      "cell_type": "markdown",
      "source": [
        "### 2. If-Else Statements\n",
        "\n",
        "The `if-else` statement allows you to execute one block of code if the condition is true and another block of code if the condition is false.\n",
        "\n",
        "**Syntax:**\n",
        "\n",
        "```python\n",
        "if condition:\n",
        "    # code block if condition is True\n",
        "else:\n",
        "    # code block if condition is False\n",
        "```"
      ],
      "metadata": {
        "id": "SOmq6oUNHlSB"
      },
      "id": "SOmq6oUNHlSB"
    },
    {
      "cell_type": "markdown",
      "source": [
        "**Example:**\n",
        "Let's check if a number is positive or negative."
      ],
      "metadata": {
        "id": "klGYQDE5HwLS"
      },
      "id": "klGYQDE5HwLS"
    },
    {
      "cell_type": "code",
      "source": [
        "number = -10\n",
        "\n",
        "if number >= 0:\n",
        "    print(\"The number is positive.\")\n",
        "else:\n",
        "    print(\"The number is negative.\")"
      ],
      "metadata": {
        "id": "z-ErpJNiHxV1",
        "colab": {
          "base_uri": "https://localhost:8080/"
        },
        "outputId": "e0113c82-761a-488f-d69d-fa1cce3152e1"
      },
      "id": "z-ErpJNiHxV1",
      "execution_count": null,
      "outputs": [
        {
          "output_type": "stream",
          "name": "stdout",
          "text": [
            "The number is negative.\n"
          ]
        }
      ]
    },
    {
      "cell_type": "markdown",
      "source": [
        "**Explanation:**\n",
        "- If the condition `number >= 0` is false, the message \"The number is negative.\" is printed."
      ],
      "metadata": {
        "id": "xkfuEOKaH2Zm"
      },
      "id": "xkfuEOKaH2Zm"
    },
    {
      "cell_type": "markdown",
      "source": [
        "### 3. If-Elif-Else Statements\n",
        "\n",
        "The `if-elif-else` statement allows you to check multiple conditions. If the first condition is false, it moves on to check the next condition, and so on.\n",
        "\n",
        "**Syntax:**\n",
        "```python\n",
        "if condition1:\n",
        "    # code block if condition1 is True\n",
        "elif condition2:\n",
        "    # code block if condition2 is True\n",
        "else:\n",
        "    # code block if all conditions are False\n",
        "```\n",
        "\n",
        "**Example:**\n",
        "Checking the grade of a student based on their score."
      ],
      "metadata": {
        "id": "YpJzAY8DH3oq"
      },
      "id": "YpJzAY8DH3oq"
    },
    {
      "cell_type": "code",
      "source": [
        "score = 85\n",
        "\n",
        "if score >= 90:\n",
        "    print(\"Grade: A\")\n",
        "elif score >= 80:\n",
        "    print(\"Grade: B\")\n",
        "elif score >= 70:\n",
        "    print(\"Grade: C\")\n",
        "elif score >= 60:\n",
        "    print(\"Grade: D\")\n",
        "else:\n",
        "    print(\"Grade: F\")"
      ],
      "metadata": {
        "id": "2A1gg_dGH_Xz"
      },
      "id": "2A1gg_dGH_Xz",
      "execution_count": null,
      "outputs": []
    },
    {
      "cell_type": "markdown",
      "source": [
        "**Explanation:**\n",
        "- The `elif` keyword stands for \"else if\" and allows you to check multiple conditions sequentially."
      ],
      "metadata": {
        "id": "uRditizeII7Y"
      },
      "id": "uRditizeII7Y"
    },
    {
      "cell_type": "markdown",
      "source": [
        "### 4. Nested If Statements\n",
        "\n",
        "You can use nested `if` statements to check multiple conditions within another `if` statement.\n",
        "\n",
        "**Syntax:**\n",
        "```python\n",
        "if condition1:\n",
        "    if condition2:\n",
        "        # code block if both condition1 and condition2 are True\n",
        "```\n",
        "\n",
        "**Example:**\n",
        "Imagine you are managing a loyalty program. You want to check if a user is a premium member and if they have enough points for a reward."
      ],
      "metadata": {
        "id": "xirKcQ4JIJ6p"
      },
      "id": "xirKcQ4JIJ6p"
    },
    {
      "cell_type": "code",
      "source": [
        "# Real-world example\n",
        "is_premium_member = True\n",
        "points = 120\n",
        "\n",
        "if is_premium_member:\n",
        "    if points >= 100:\n",
        "        print(\"You are eligible for a reward!\")\n",
        "else:\n",
        "    print(\"You need to be a premium member to be eligible for rewards.\")"
      ],
      "metadata": {
        "id": "JQCSpl3kIOIH",
        "colab": {
          "base_uri": "https://localhost:8080/"
        },
        "outputId": "d319688b-b906-4e1b-b790-8204fe780f3b"
      },
      "id": "JQCSpl3kIOIH",
      "execution_count": null,
      "outputs": [
        {
          "output_type": "stream",
          "name": "stdout",
          "text": [
            "You are eligible for a reward!\n"
          ]
        }
      ]
    },
    {
      "cell_type": "markdown",
      "source": [
        "**Explanation:**\n",
        "- The outer `if` statement checks if the user is a premium member.\n",
        "- The inner `if` statement checks if the user has enough points for a reward."
      ],
      "metadata": {
        "id": "YCCwjCDOIVPX"
      },
      "id": "YCCwjCDOIVPX"
    },
    {
      "cell_type": "markdown",
      "source": [
        "**Example:** Check whether the given year is a leap year or not?"
      ],
      "metadata": {
        "id": "S7A_Tx_oNmAz"
      },
      "id": "S7A_Tx_oNmAz"
    },
    {
      "cell_type": "code",
      "source": [
        "#Nested if statement, which checks for condition upon satisfying parent condition\n",
        "year = int(input(\"Enter the year: \"))\n",
        "if (year%4 == 0):\n",
        "    if (year%100 == 0):\n",
        "        if (year%400 ==0):\n",
        "            print (\"It is a leap year\")\n",
        "        else:\n",
        "            print (\"It is not a leap year\")\n",
        "    else:\n",
        "        print(\"It is a leap year\")\n",
        "else:\n",
        "    print(\"It is not a leap year\")\n"
      ],
      "metadata": {
        "id": "RsTGCtB0NmTN",
        "colab": {
          "base_uri": "https://localhost:8080/"
        },
        "outputId": "05e8c95a-b646-43a5-8668-76b436ce9e42"
      },
      "id": "RsTGCtB0NmTN",
      "execution_count": null,
      "outputs": [
        {
          "output_type": "stream",
          "name": "stdout",
          "text": [
            "Enter the year: 1997\n",
            "It is not a leap year\n"
          ]
        }
      ]
    },
    {
      "cell_type": "markdown",
      "source": [
        "### 5. Multiple Conditions\n",
        "\n",
        "You can combine multiple conditions in an `if` statement using logical operators (`and`, `or`, `not`).\n",
        "\n",
        "**Syntax:**\n",
        "```python\n",
        "if condition1 and condition2:\n",
        "    # code block if both condition1 and condition2 are True\n",
        "\n",
        "if condition1 or condition2:\n",
        "    # code block if either condition1 or condition2 is True\n",
        "\n",
        "if not condition:\n",
        "    # code block if condition is False\n",
        "```\n",
        "\n",
        "**Example:**\n",
        "Imagine you are creating a library system. You want to check if a user can borrow a book based on their membership status and if they have returned all previous books."
      ],
      "metadata": {
        "id": "MhdzDr9lIVZB"
      },
      "id": "MhdzDr9lIVZB"
    },
    {
      "cell_type": "code",
      "source": [
        "# Real-world example\n",
        "is_member = True\n",
        "has_returned_books = True\n",
        "\n",
        "if is_member and has_returned_books:\n",
        "    print(\"You can borrow a new book.\")\n",
        "else:\n",
        "    print(\"You cannot borrow a new book.\")"
      ],
      "metadata": {
        "id": "XgGdVnCeIdLc"
      },
      "id": "XgGdVnCeIdLc",
      "execution_count": null,
      "outputs": []
    },
    {
      "cell_type": "markdown",
      "source": [
        "**Explanation:**\n",
        "- The `and` operator ensures that both conditions (`is_member` and `has_returned_books`) must be true for the code block to execute."
      ],
      "metadata": {
        "id": "l0-3w1PyIi64"
      },
      "id": "l0-3w1PyIi64"
    },
    {
      "cell_type": "markdown",
      "source": [
        "## Loops\n",
        "\n",
        "Loops are used to repeat a block of code multiple times. Python provides two main types of loops: `for` loops and `while` loops. Loops are useful for tasks that require repetitive actions, such as iterating over a list of items or executing a block of code until a condition is met."
      ],
      "metadata": {
        "id": "J1-Lk2__IjTS"
      },
      "id": "J1-Lk2__IjTS"
    },
    {
      "cell_type": "markdown",
      "source": [
        "### For Loops\n",
        "\n",
        "A `for` loop is used to iterate over a sequence (like a list, tuple, or string) and execute a block of code for each item in the sequence.\n",
        "\n",
        "**Syntax:**\n",
        "```python\n",
        "for item in sequence:\n",
        "    # code block\n",
        "```\n",
        "\n",
        "**Example 1: Iterating Over a List**\n",
        "Imagine you are creating a program to display the top 5 scores in a game."
      ],
      "metadata": {
        "id": "iF24jRDQLPZ9"
      },
      "id": "iF24jRDQLPZ9"
    },
    {
      "cell_type": "code",
      "source": [
        "# Real-world example\n",
        "scores = [100, 95, 90, 85, 80]\n",
        "\n",
        "for score in scores:\n",
        "    print(f\"Score: {score}\")"
      ],
      "metadata": {
        "id": "erwjAkclLRAh"
      },
      "id": "erwjAkclLRAh",
      "execution_count": null,
      "outputs": []
    },
    {
      "cell_type": "markdown",
      "source": [
        "**Explanation:**\n",
        "- The loop iterates over each item in the `scores` list and prints the score.\n",
        "\n",
        "**Example 2: Finding the Sum of Even Numbers in a List**\n",
        "You want to calculate the sum of all even numbers in a list."
      ],
      "metadata": {
        "id": "NAqHhr0aLZUF"
      },
      "id": "NAqHhr0aLZUF"
    },
    {
      "cell_type": "code",
      "source": [
        "# Real-world example\n",
        "numbers = [1, 2, 3, 4, 5, 6]\n",
        "even_sum = 0\n",
        "\n",
        "for number in numbers:\n",
        "    if number % 2 == 0:\n",
        "        even_sum += number\n",
        "\n",
        "print(f\"Sum of even numbers: {even_sum}\")"
      ],
      "metadata": {
        "id": "l2l-ar7NLaKK",
        "colab": {
          "base_uri": "https://localhost:8080/"
        },
        "outputId": "a59fb39c-1b8a-4de2-db45-304c7781126c"
      },
      "id": "l2l-ar7NLaKK",
      "execution_count": null,
      "outputs": [
        {
          "output_type": "stream",
          "name": "stdout",
          "text": [
            "Sum of even numbers: 12\n"
          ]
        }
      ]
    },
    {
      "cell_type": "markdown",
      "source": [
        "**Explanation:**\n",
        "- The loop iterates over each number in the `numbers` list.\n",
        "- The `if` statement checks if the number is even, and if so, adds it to `even_sum`.\n",
        "\n",
        "**Example 3: Iterating Over a Dictionary**\n",
        "You want to print the name and age of each person in a dictionary."
      ],
      "metadata": {
        "id": "4Fu1XYkHLeNi"
      },
      "id": "4Fu1XYkHLeNi"
    },
    {
      "cell_type": "code",
      "source": [
        "# Real-world example\n",
        "people = {\"Alice\": 25, \"Bob\": 30, \"Charlie\": 35}\n",
        "\n",
        "for name, age in people.items():\n",
        "    print(f\"{name} is {age} years old.\")"
      ],
      "metadata": {
        "id": "FPuvg4LuLdyf"
      },
      "id": "FPuvg4LuLdyf",
      "execution_count": null,
      "outputs": []
    },
    {
      "cell_type": "markdown",
      "source": [
        "**Explanation:**\n",
        "- The loop iterates over each key-value pair in the `people` dictionary and prints the name and age."
      ],
      "metadata": {
        "id": "mTwoW4VELl4W"
      },
      "id": "mTwoW4VELl4W"
    },
    {
      "cell_type": "markdown",
      "source": [
        "### While Loops\n",
        "\n",
        "A `while` loop is used to execute a block of code as long as a condition is true.\n",
        "\n",
        "**Syntax:**\n",
        "```python\n",
        "while condition:\n",
        "    # code block\n",
        "```\n",
        "\n",
        "**Example 1: Printing the First 10 Positive Integers**\n",
        "You want to print the first 10 positive integers."
      ],
      "metadata": {
        "id": "pcKrAvk1Lm6A"
      },
      "id": "pcKrAvk1Lm6A"
    },
    {
      "cell_type": "code",
      "source": [
        "# Real-world example\n",
        "number = 1\n",
        "\n",
        "while number <= 10:\n",
        "    print(number)\n",
        "    number += 1"
      ],
      "metadata": {
        "id": "mKSvwkyCLrDS",
        "colab": {
          "base_uri": "https://localhost:8080/"
        },
        "outputId": "d90c00a1-a0ba-43a2-963a-b306a37b6037"
      },
      "id": "mKSvwkyCLrDS",
      "execution_count": null,
      "outputs": [
        {
          "output_type": "stream",
          "name": "stdout",
          "text": [
            "1\n",
            "2\n",
            "3\n",
            "4\n",
            "5\n",
            "6\n",
            "7\n",
            "8\n",
            "9\n",
            "10\n"
          ]
        }
      ]
    },
    {
      "cell_type": "markdown",
      "source": [
        "**Explanation:**\n",
        "- The loop continues as long as `number` is less than or equal to 10.\n",
        "- The `number` variable is incremented by 1 in each iteration.\n",
        "\n",
        "**Example 2: Simulating a Login System**\n",
        "You want to keep asking for a username and password until the correct credentials are entered."
      ],
      "metadata": {
        "id": "8kdDN6Q-LyYI"
      },
      "id": "8kdDN6Q-LyYI"
    },
    {
      "cell_type": "code",
      "source": [
        "# Real-world example\n",
        "correct_username = \"admin\"\n",
        "correct_password = \"admin123\"\n",
        "\n",
        "username = \"\"\n",
        "password = \"\"\n",
        "\n",
        "while username != correct_username or password != correct_password:\n",
        "    username = input(\"Enter username: \")\n",
        "    password = input(\"Enter password: \")\n",
        "\n",
        "print(\"Login successful!\")"
      ],
      "metadata": {
        "id": "AH0ucA3bL4pR",
        "colab": {
          "base_uri": "https://localhost:8080/"
        },
        "outputId": "66d30a8a-abf2-4b43-e6b9-0ddbfd3c5387"
      },
      "id": "AH0ucA3bL4pR",
      "execution_count": null,
      "outputs": [
        {
          "output_type": "stream",
          "name": "stdout",
          "text": [
            "Enter username: admin\n",
            "Enter password: admin123\n",
            "Login successful!\n"
          ]
        }
      ]
    },
    {
      "cell_type": "markdown",
      "source": [
        "**Explanation:**\n",
        "- The loop continues as long as the entered username and password do not match the correct credentials."
      ],
      "metadata": {
        "id": "4NDwoV1qL59n"
      },
      "id": "4NDwoV1qL59n"
    },
    {
      "cell_type": "markdown",
      "source": [
        "### Nested Loops\n",
        "\n",
        "You can use loops inside other loops. These are called nested loops.\n",
        "\n",
        "**Example: Displaying a Pattern**\n",
        "You want to print a pattern of stars in a square shape."
      ],
      "metadata": {
        "id": "2uWvKtZqL8fw"
      },
      "id": "2uWvKtZqL8fw"
    },
    {
      "cell_type": "code",
      "source": [
        "# Real-world example\n",
        "size = 5\n",
        "\n",
        "for i in range(size):\n",
        "    for j in range(size):\n",
        "        print(\"*\", end=\" \")\n",
        "    print()"
      ],
      "metadata": {
        "id": "mnkiDQSUL_b3",
        "colab": {
          "base_uri": "https://localhost:8080/"
        },
        "outputId": "db5ce159-451e-4c5b-aaed-1566703df241"
      },
      "id": "mnkiDQSUL_b3",
      "execution_count": null,
      "outputs": [
        {
          "output_type": "stream",
          "name": "stdout",
          "text": [
            "* * * * * \n",
            "* * * * * \n",
            "* * * * * \n",
            "* * * * * \n",
            "* * * * * \n"
          ]
        }
      ]
    },
    {
      "cell_type": "markdown",
      "source": [
        "**Explanation:**\n",
        "- The outer loop iterates over the rows.\n",
        "- The inner loop iterates over the columns and prints a star."
      ],
      "metadata": {
        "id": "HF_J1qJfMC9U"
      },
      "id": "HF_J1qJfMC9U"
    },
    {
      "cell_type": "markdown",
      "source": [
        "## Jump Statements"
      ],
      "metadata": {
        "id": "-KmCNfWqMGA7"
      },
      "id": "-KmCNfWqMGA7"
    },
    {
      "cell_type": "markdown",
      "source": [
        "### 1. Break Statement\n",
        "\n",
        "The `break` statement is used to exit a loop prematurely. It is often used to terminate a loop when a specific condition is met.\n",
        "\n",
        "**Example: Exiting a Loop When a Certain Condition is Met**\n",
        "You want to find the first number greater than 50 in a list."
      ],
      "metadata": {
        "id": "tdT5X5neMGIu"
      },
      "id": "tdT5X5neMGIu"
    },
    {
      "cell_type": "code",
      "source": [
        "# Real-world example\n",
        "numbers = [10, 20, 30, 40, 50, 60, 70]\n",
        "\n",
        "for number in numbers:\n",
        "    if number > 50:\n",
        "        print(f\"Found a number greater than 50: {number}\")\n",
        "        break"
      ],
      "metadata": {
        "id": "zKkr692gMN5W",
        "colab": {
          "base_uri": "https://localhost:8080/"
        },
        "outputId": "b87fbb5c-5a41-42ed-aff0-46ba6a09cdda"
      },
      "id": "zKkr692gMN5W",
      "execution_count": null,
      "outputs": [
        {
          "output_type": "stream",
          "name": "stdout",
          "text": [
            "Found a number greater than 50: 60\n"
          ]
        }
      ]
    },
    {
      "cell_type": "markdown",
      "source": [
        "**Explanation:**\n",
        "- The loop stops executing once a number greater than 50 is found."
      ],
      "metadata": {
        "id": "fa1CVGCXMPGK"
      },
      "id": "fa1CVGCXMPGK"
    },
    {
      "cell_type": "markdown",
      "source": [
        "### 2. Continue Statement\n",
        "\n",
        "The `continue` statement skips the current iteration and moves to the next iteration of the loop.\n",
        "\n",
        "**Example: Skipping Odd Numbers**\n",
        "You want to print all even numbers from 1 to 10."
      ],
      "metadata": {
        "id": "uUPvkw0XMT0R"
      },
      "id": "uUPvkw0XMT0R"
    },
    {
      "cell_type": "code",
      "source": [
        "# Real-world example\n",
        "for number in range(1, 11):\n",
        "    if number % 2 != 0:\n",
        "        continue\n",
        "    print(number)"
      ],
      "metadata": {
        "id": "MgNckLMvMbkh",
        "colab": {
          "base_uri": "https://localhost:8080/"
        },
        "outputId": "06db2558-ef5e-4145-c417-265f7eee3845"
      },
      "id": "MgNckLMvMbkh",
      "execution_count": null,
      "outputs": [
        {
          "output_type": "stream",
          "name": "stdout",
          "text": [
            "2\n",
            "4\n",
            "6\n",
            "8\n",
            "10\n"
          ]
        }
      ]
    },
    {
      "cell_type": "markdown",
      "source": [
        "**Explanation:**\n",
        "- The loop skips printing odd numbers and only prints even numbers."
      ],
      "metadata": {
        "id": "0t76U_PeMfN4"
      },
      "id": "0t76U_PeMfN4"
    },
    {
      "cell_type": "markdown",
      "source": [
        "### 3. Pass Statement\n",
        "\n",
        "The `pass` statement is a null operation. It is used as a placeholder in loops or functions where code is syntactically required but you don't want to execute any code.\n",
        "\n",
        "**Example: Using Pass in a Loop**\n",
        "You want to create a loop that will be implemented later."
      ],
      "metadata": {
        "id": "tYn6wkMlMgA5"
      },
      "id": "tYn6wkMlMgA5"
    },
    {
      "cell_type": "code",
      "source": [
        "# Real-world example\n",
        "for i in range(5):\n",
        "    pass  # To be implemented later"
      ],
      "metadata": {
        "id": "CuJgcsrGMjr5"
      },
      "id": "CuJgcsrGMjr5",
      "execution_count": null,
      "outputs": []
    },
    {
      "cell_type": "markdown",
      "source": [
        "**Explanation:**\n",
        "- The loop runs 5 times but does not execute any code inside the loop."
      ],
      "metadata": {
        "id": "86NMOY23MpRk"
      },
      "id": "86NMOY23MpRk"
    },
    {
      "cell_type": "markdown",
      "source": [
        "### Real-World Example: Grocery List Manager\n",
        "\n",
        "Let's create a simple grocery list manager using loops and conditional statements. The program will allow the user to add items to the list, remove items from the list, and display the list."
      ],
      "metadata": {
        "id": "yPdf9kRYMq4I"
      },
      "id": "yPdf9kRYMq4I"
    },
    {
      "cell_type": "code",
      "source": [
        "# Grocery List Manager\n",
        "\n",
        "grocery_list = []\n",
        "\n",
        "while True:\n",
        "    print(\"\\n1. Add item\")\n",
        "    print(\"2. Remove item\")\n",
        "    print(\"3. Display list\")\n",
        "    print(\"4. Exit\")\n",
        "    choice = input(\"Enter your choice: \")\n",
        "\n",
        "    if choice == \"1\":\n",
        "        item = input(\"Enter the item to add: \")\n",
        "        grocery_list.append(item)\n",
        "        print(f\"{item} added to the list.\")\n",
        "    elif choice == \"2\":\n",
        "        item = input(\"Enter the item to remove: \")\n",
        "        if item in grocery_list:\n",
        "            grocery_list.remove(item)\n",
        "            print(f\"{item} removed from the list.\")\n",
        "        else:\n",
        "            print(f\"{item} not found in the list.\")\n",
        "    elif choice == \"3\":\n",
        "        print(\"\\nGrocery List:\")\n",
        "        for item in grocery_list:\n",
        "            print(f\"- {item}\")\n",
        "    elif choice == \"4\":\n",
        "        break\n",
        "    else:\n",
        "        print(\"Invalid choice. Please try again.\")"
      ],
      "metadata": {
        "id": "xsBb-FAgMttb",
        "colab": {
          "base_uri": "https://localhost:8080/"
        },
        "outputId": "9d6eab51-6198-4455-9786-70437f6d00eb"
      },
      "id": "xsBb-FAgMttb",
      "execution_count": null,
      "outputs": [
        {
          "name": "stdout",
          "output_type": "stream",
          "text": [
            "\n",
            "1. Add item\n",
            "2. Remove item\n",
            "3. Display list\n",
            "4. Exit\n",
            "Enter your choice: 1\n",
            "Enter the item to add: banana\n",
            "banana added to the list.\n",
            "\n",
            "1. Add item\n",
            "2. Remove item\n",
            "3. Display list\n",
            "4. Exit\n",
            "Enter your choice: 3\n",
            "\n",
            "Grocery List:\n",
            "- banana\n",
            "\n",
            "1. Add item\n",
            "2. Remove item\n",
            "3. Display list\n",
            "4. Exit\n",
            "Enter your choice: 4\n"
          ]
        }
      ]
    },
    {
      "cell_type": "markdown",
      "source": [
        "**Explanation:**\n",
        "- The program allows the user to add, remove, and display items in a grocery list.\n",
        "- The loop continues until the user chooses to exit."
      ],
      "metadata": {
        "id": "Gllpn19qMyk1"
      },
      "id": "Gllpn19qMyk1"
    },
    {
      "cell_type": "markdown",
      "source": [
        "## Exercises: Practice Your Control Flow Skills!\n",
        "\n",
        "Now that you've got a handle on control flow in Python, it's time to practice what you've learned! Below are a set of exercises that will help you reinforce your understanding of decision-making statements, loops, and jump statements. Try to solve them on your own, and remember, experimenting is the key to mastering Python!"
      ],
      "metadata": {
        "id": "E8dclniaMz-9"
      },
      "id": "E8dclniaMz-9"
    },
    {
      "cell_type": "markdown",
      "source": [
        "### Exercise 1: Even or Odd\n",
        "\n",
        "Write a program that asks the user to enter a number and prints whether the number is even or odd."
      ],
      "metadata": {
        "id": "ss9ps4hYM2vD"
      },
      "id": "ss9ps4hYM2vD"
    },
    {
      "cell_type": "code",
      "source": [
        "def even_odd():\n",
        "  number = int(input(\"Enter a number: \"))\n",
        "if number % 2 == 0:\n",
        "  print(\"Even\")\n",
        "else:\n",
        "  print(\"Odd\")"
      ],
      "metadata": {
        "id": "TfEEQYZhNA7g",
        "colab": {
          "base_uri": "https://localhost:8080/"
        },
        "outputId": "1c38a8ba-b0b3-44da-a4cc-9bedf49e7b86"
      },
      "id": "TfEEQYZhNA7g",
      "execution_count": null,
      "outputs": [
        {
          "output_type": "stream",
          "name": "stdout",
          "text": [
            "Even\n"
          ]
        }
      ]
    },
    {
      "cell_type": "markdown",
      "source": [
        "### Exercise 2: Guess the Number\n",
        "\n",
        "Create a simple guessing game where the computer randomly selects a number between 1 and 100, and the user has to guess the number. The program should give hints if the guess is too high or too low, and end when the user guesses the correct number."
      ],
      "metadata": {
        "id": "RtO6oQZuNDqb"
      },
      "id": "RtO6oQZuNDqb"
    },
    {
      "cell_type": "code",
      "source": [
        "import random\n",
        "\n",
        "def guessing_game():\n",
        "    number_to_guess = random.randint(1, 100)\n",
        "    print(\"I'm thinking of a number between 1 and 100.\")\n",
        "\n",
        "    while True:\n",
        "        try:\n",
        "            guess = int(input(\"Enter your guess: \"))\n",
        "            if guess < 1 or guess > 100:\n",
        "                print(\"Please enter a number within the range 1 to 100.\")\n",
        "                continue\n",
        "        except ValueError:\n",
        "            print(\"Invalid input. Please enter an integer.\")\n",
        "            continue\n",
        "\n",
        "        if guess < number_to_guess:\n",
        "            print(\"Too low. Try again!\")\n",
        "        elif guess > number_to_guess:\n",
        "            print(\"Too high. Try again!\")\n",
        "        else:\n",
        "            print(f\"Congratulations! You guessed the number {number_to_guess}.\")\n",
        "            break\n",
        "\n",
        "if __name__ == \"__main__\":\n",
        "    guessing_game()"
      ],
      "metadata": {
        "colab": {
          "base_uri": "https://localhost:8080/",
          "height": 339
        },
        "id": "0vInLGifBWBk",
        "outputId": "9d0c8a1b-b73f-44b0-86eb-1fe8cf102df4"
      },
      "id": "0vInLGifBWBk",
      "execution_count": null,
      "outputs": [
        {
          "output_type": "stream",
          "name": "stdout",
          "text": [
            "I'm thinking of a number between 1 and 100.\n"
          ]
        },
        {
          "output_type": "error",
          "ename": "KeyboardInterrupt",
          "evalue": "Interrupted by user",
          "traceback": [
            "\u001b[0;31m---------------------------------------------------------------------------\u001b[0m",
            "\u001b[0;31mKeyboardInterrupt\u001b[0m                         Traceback (most recent call last)",
            "\u001b[0;32m/tmp/ipython-input-32-1087132609.py\u001b[0m in \u001b[0;36m<cell line: 0>\u001b[0;34m()\u001b[0m\n\u001b[1;32m     24\u001b[0m \u001b[0;34m\u001b[0m\u001b[0m\n\u001b[1;32m     25\u001b[0m \u001b[0;32mif\u001b[0m \u001b[0m__name__\u001b[0m \u001b[0;34m==\u001b[0m \u001b[0;34m\"__main__\"\u001b[0m\u001b[0;34m:\u001b[0m\u001b[0;34m\u001b[0m\u001b[0;34m\u001b[0m\u001b[0m\n\u001b[0;32m---> 26\u001b[0;31m     \u001b[0mguessing_game\u001b[0m\u001b[0;34m(\u001b[0m\u001b[0;34m)\u001b[0m\u001b[0;34m\u001b[0m\u001b[0;34m\u001b[0m\u001b[0m\n\u001b[0m",
            "\u001b[0;32m/tmp/ipython-input-32-1087132609.py\u001b[0m in \u001b[0;36mguessing_game\u001b[0;34m()\u001b[0m\n\u001b[1;32m      7\u001b[0m     \u001b[0;32mwhile\u001b[0m \u001b[0;32mTrue\u001b[0m\u001b[0;34m:\u001b[0m\u001b[0;34m\u001b[0m\u001b[0;34m\u001b[0m\u001b[0m\n\u001b[1;32m      8\u001b[0m         \u001b[0;32mtry\u001b[0m\u001b[0;34m:\u001b[0m\u001b[0;34m\u001b[0m\u001b[0;34m\u001b[0m\u001b[0m\n\u001b[0;32m----> 9\u001b[0;31m             \u001b[0mguess\u001b[0m \u001b[0;34m=\u001b[0m \u001b[0mint\u001b[0m\u001b[0;34m(\u001b[0m\u001b[0minput\u001b[0m\u001b[0;34m(\u001b[0m\u001b[0;34m\"Enter your guess: \"\u001b[0m\u001b[0;34m)\u001b[0m\u001b[0;34m)\u001b[0m\u001b[0;34m\u001b[0m\u001b[0;34m\u001b[0m\u001b[0m\n\u001b[0m\u001b[1;32m     10\u001b[0m             \u001b[0;32mif\u001b[0m \u001b[0mguess\u001b[0m \u001b[0;34m<\u001b[0m \u001b[0;36m1\u001b[0m \u001b[0;32mor\u001b[0m \u001b[0mguess\u001b[0m \u001b[0;34m>\u001b[0m \u001b[0;36m100\u001b[0m\u001b[0;34m:\u001b[0m\u001b[0;34m\u001b[0m\u001b[0;34m\u001b[0m\u001b[0m\n\u001b[1;32m     11\u001b[0m                 \u001b[0mprint\u001b[0m\u001b[0;34m(\u001b[0m\u001b[0;34m\"Please enter a number within the range 1 to 100.\"\u001b[0m\u001b[0;34m)\u001b[0m\u001b[0;34m\u001b[0m\u001b[0;34m\u001b[0m\u001b[0m\n",
            "\u001b[0;32m/usr/local/lib/python3.11/dist-packages/ipykernel/kernelbase.py\u001b[0m in \u001b[0;36mraw_input\u001b[0;34m(self, prompt)\u001b[0m\n\u001b[1;32m   1175\u001b[0m                 \u001b[0;34m\"raw_input was called, but this frontend does not support input requests.\"\u001b[0m\u001b[0;34m\u001b[0m\u001b[0;34m\u001b[0m\u001b[0m\n\u001b[1;32m   1176\u001b[0m             )\n\u001b[0;32m-> 1177\u001b[0;31m         return self._input_request(\n\u001b[0m\u001b[1;32m   1178\u001b[0m             \u001b[0mstr\u001b[0m\u001b[0;34m(\u001b[0m\u001b[0mprompt\u001b[0m\u001b[0;34m)\u001b[0m\u001b[0;34m,\u001b[0m\u001b[0;34m\u001b[0m\u001b[0;34m\u001b[0m\u001b[0m\n\u001b[1;32m   1179\u001b[0m             \u001b[0mself\u001b[0m\u001b[0;34m.\u001b[0m\u001b[0m_parent_ident\u001b[0m\u001b[0;34m[\u001b[0m\u001b[0;34m\"shell\"\u001b[0m\u001b[0;34m]\u001b[0m\u001b[0;34m,\u001b[0m\u001b[0;34m\u001b[0m\u001b[0;34m\u001b[0m\u001b[0m\n",
            "\u001b[0;32m/usr/local/lib/python3.11/dist-packages/ipykernel/kernelbase.py\u001b[0m in \u001b[0;36m_input_request\u001b[0;34m(self, prompt, ident, parent, password)\u001b[0m\n\u001b[1;32m   1217\u001b[0m             \u001b[0;32mexcept\u001b[0m \u001b[0mKeyboardInterrupt\u001b[0m\u001b[0;34m:\u001b[0m\u001b[0;34m\u001b[0m\u001b[0;34m\u001b[0m\u001b[0m\n\u001b[1;32m   1218\u001b[0m                 \u001b[0;31m# re-raise KeyboardInterrupt, to truncate traceback\u001b[0m\u001b[0;34m\u001b[0m\u001b[0;34m\u001b[0m\u001b[0m\n\u001b[0;32m-> 1219\u001b[0;31m                 \u001b[0;32mraise\u001b[0m \u001b[0mKeyboardInterrupt\u001b[0m\u001b[0;34m(\u001b[0m\u001b[0;34m\"Interrupted by user\"\u001b[0m\u001b[0;34m)\u001b[0m \u001b[0;32mfrom\u001b[0m \u001b[0;32mNone\u001b[0m\u001b[0;34m\u001b[0m\u001b[0;34m\u001b[0m\u001b[0m\n\u001b[0m\u001b[1;32m   1220\u001b[0m             \u001b[0;32mexcept\u001b[0m \u001b[0mException\u001b[0m\u001b[0;34m:\u001b[0m\u001b[0;34m\u001b[0m\u001b[0;34m\u001b[0m\u001b[0m\n\u001b[1;32m   1221\u001b[0m                 \u001b[0mself\u001b[0m\u001b[0;34m.\u001b[0m\u001b[0mlog\u001b[0m\u001b[0;34m.\u001b[0m\u001b[0mwarning\u001b[0m\u001b[0;34m(\u001b[0m\u001b[0;34m\"Invalid Message:\"\u001b[0m\u001b[0;34m,\u001b[0m \u001b[0mexc_info\u001b[0m\u001b[0;34m=\u001b[0m\u001b[0;32mTrue\u001b[0m\u001b[0;34m)\u001b[0m\u001b[0;34m\u001b[0m\u001b[0;34m\u001b[0m\u001b[0m\n",
            "\u001b[0;31mKeyboardInterrupt\u001b[0m: Interrupted by user"
          ]
        }
      ]
    },
    {
      "cell_type": "markdown",
      "source": [],
      "metadata": {
        "id": "MT4gvBc3BVoO"
      },
      "id": "MT4gvBc3BVoO"
    },
    {
      "cell_type": "markdown",
      "source": [
        "### Exercise 3: Print Prime Numbers\n",
        "\n",
        "Write a program that prints all prime numbers between 1 and 50."
      ],
      "metadata": {
        "id": "BTQrG8dcNE62"
      },
      "id": "BTQrG8dcNE62"
    },
    {
      "cell_type": "code",
      "source": [
        "def is_prime(n):\n",
        "    \"\"\"Check if a number is prime.\"\"\"\n",
        "    if n < 2:\n",
        "        return False\n",
        "    for i in range(2, int(n ** 0.5) + 1):\n",
        "        if n % i == 0:\n",
        "            return False\n",
        "    return True\n",
        "\n",
        "print(\"Prime numbers between 1 and 50:\")\n",
        "for number in range(1, 51):\n",
        "    if is_prime(number):\n",
        "        print(number, end=\" \")"
      ],
      "metadata": {
        "id": "NHSYWu5gNFgJ",
        "colab": {
          "base_uri": "https://localhost:8080/"
        },
        "outputId": "cfd811c7-cb65-4ed7-e335-f62d88f0c630"
      },
      "id": "NHSYWu5gNFgJ",
      "execution_count": null,
      "outputs": [
        {
          "output_type": "stream",
          "name": "stdout",
          "text": [
            "Prime numbers between 1 and 50:\n",
            "2 3 5 7 11 13 17 19 23 29 31 37 41 43 47 "
          ]
        }
      ]
    },
    {
      "cell_type": "markdown",
      "source": [
        "### Exercise 4: Factorial Calculation\n",
        "\n",
        "Create a function that calculates the factorial of a given number using a `while` loop."
      ],
      "metadata": {
        "id": "6N-hsPp7NF4C"
      },
      "id": "6N-hsPp7NF4C"
    },
    {
      "cell_type": "code",
      "source": [
        "def factorial(n):\n",
        "    \"\"\"\n",
        "    Calculates the factorial of a given non-negative integer using a while loop.\n",
        "\n",
        "    Args:\n",
        "        n (int): The number to calculate the factorial of.\n",
        "\n",
        "    Returns:\n",
        "        int: The factorial of n.\n",
        "    \"\"\"\n",
        "    if n < 0:\n",
        "        raise ValueError(\"Factorial is not defined for negative numbers.\")\n",
        "    result = 1\n",
        "    while n > 1:\n",
        "        result *= n\n",
        "        n -= 1\n",
        "    return result\n",
        "\n",
        "# Example usage:\n",
        "number = int(input(\"Enter a non-negative integer: \"))\n",
        "print(f\"The factorial of {number} is {factorial(number)}.\")"
      ],
      "metadata": {
        "id": "h1hEoRI1NNYd",
        "colab": {
          "base_uri": "https://localhost:8080/"
        },
        "outputId": "ae90677e-1e9d-4642-c674-9cfdcac02361"
      },
      "id": "h1hEoRI1NNYd",
      "execution_count": null,
      "outputs": [
        {
          "output_type": "stream",
          "name": "stdout",
          "text": [
            "Enter a non-negative integer: 5\n",
            "The factorial of 5 is 120.\n"
          ]
        }
      ]
    },
    {
      "cell_type": "markdown",
      "source": [
        "### Exercise 5: Multiplication Table\n",
        "\n",
        "Write a program that prints the multiplication table for a given number up to 10 using a `for` loop."
      ],
      "metadata": {
        "id": "89uvqEu-NOCY"
      },
      "id": "89uvqEu-NOCY"
    },
    {
      "cell_type": "code",
      "source": [
        "def multiplication_table(number):\n",
        "    \"\"\"\n",
        "    Prints the multiplication table for the given number up to 10.\n",
        "\n",
        "    Args:\n",
        "        number (int): The number to print the multiplication table for.\n",
        "    \"\"\"\n",
        "    for i in range(1, 11):\n",
        "        print(f\"{number} x {i} = {number * i}\")\n",
        "\n",
        "# Example usage:\n",
        "num = 10  # You can change this number to test with other values\n",
        "multiplication_table(num)"
      ],
      "metadata": {
        "id": "zbn4PqwxNORC",
        "colab": {
          "base_uri": "https://localhost:8080/"
        },
        "outputId": "d4498188-f576-4a58-b61c-c89641324067"
      },
      "id": "zbn4PqwxNORC",
      "execution_count": null,
      "outputs": [
        {
          "output_type": "stream",
          "name": "stdout",
          "text": [
            "10 x 1 = 10\n",
            "10 x 2 = 20\n",
            "10 x 3 = 30\n",
            "10 x 4 = 40\n",
            "10 x 5 = 50\n",
            "10 x 6 = 60\n",
            "10 x 7 = 70\n",
            "10 x 8 = 80\n",
            "10 x 9 = 90\n",
            "10 x 10 = 100\n"
          ]
        }
      ]
    },
    {
      "cell_type": "markdown",
      "source": [
        "### Exercise 6: Count Vowels in a String\n",
        "\n",
        "Write a program that counts the number of vowels in a given string using a `for` loop and the `continue` statement."
      ],
      "metadata": {
        "id": "T4UsV8cBNOiC"
      },
      "id": "T4UsV8cBNOiC"
    },
    {
      "cell_type": "code",
      "source": [
        "def count_vowels(input_string):\n",
        "    vowels = 'aeiouAEIOU'\n",
        "    count = 0\n",
        "    for char in input_string:\n",
        "        if char not in vowels:\n",
        "            continue\n",
        "        count += 1\n",
        "    return count\n",
        "\n",
        "# Example usage:\n",
        "example_string = \"It's me hi, I'm the problem it's me\"\n",
        "vowel_count = count_vowels(example_string)\n",
        "print(f\"Number of vowels: {vowel_count}\")"
      ],
      "metadata": {
        "id": "DvgTMRrtNOwP",
        "colab": {
          "base_uri": "https://localhost:8080/"
        },
        "outputId": "4bcb13bd-0191-44bc-9dbf-be4b2649999f"
      },
      "id": "DvgTMRrtNOwP",
      "execution_count": null,
      "outputs": [
        {
          "output_type": "stream",
          "name": "stdout",
          "text": [
            "Number of vowels: 9\n"
          ]
        }
      ]
    },
    {
      "cell_type": "markdown",
      "source": [
        "Remember, the more you practice, the better you’ll understand how to manipulate and utilize Python’s capabilities. Have fun with these exercises, and try creating some of your own variations!"
      ],
      "metadata": {
        "id": "uAxS7G5LFxT-"
      },
      "id": "uAxS7G5LFxT-"
    }
  ],
  "metadata": {
    "kernelspec": {
      "display_name": "Python 3 (ipykernel)",
      "language": "python",
      "name": "python3"
    },
    "language_info": {
      "codemirror_mode": {
        "name": "ipython",
        "version": 3
      },
      "file_extension": ".py",
      "mimetype": "text/x-python",
      "name": "python",
      "nbconvert_exporter": "python",
      "pygments_lexer": "ipython3",
      "version": "3.10.13"
    },
    "colab": {
      "provenance": [],
      "include_colab_link": true
    }
  },
  "nbformat": 4,
  "nbformat_minor": 5
}